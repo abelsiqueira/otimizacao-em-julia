{
 "cells": [
  {
   "cell_type": "code",
   "execution_count": 1,
   "metadata": {},
   "outputs": [
    {
     "name": "stderr",
     "output_type": "stream",
     "text": [
      "\u001b[32m\u001b[1m Activating\u001b[22m\u001b[39m environment at `~/Documents/otimizacao-em-julia/modelagem/Project.toml`\n"
     ]
    }
   ],
   "source": [
    "using Pkg\n",
    "pkg\"activate .\""
   ]
  },
  {
   "cell_type": "code",
   "execution_count": 2,
   "metadata": {},
   "outputs": [
    {
     "name": "stderr",
     "output_type": "stream",
     "text": [
      "┌ Info: Precompiling Plots [91a5bcdd-55d7-5caf-9e0b-520d859cae80]\n",
      "└ @ Base loading.jl:1278\n"
     ]
    }
   ],
   "source": [
    "using Plots\n",
    "plot(rand(3))\n",
    "nothing"
   ]
  },
  {
   "cell_type": "code",
   "execution_count": 76,
   "metadata": {},
   "outputs": [
    {
     "data": {
      "text/plain": [
       "27994"
      ]
     },
     "execution_count": 76,
     "metadata": {},
     "output_type": "execute_result"
    }
   ],
   "source": [
    "using Random\n",
    "Random.seed!(0)\n",
    "\n",
    "n = 1000\n",
    "v = rand(10:100, n)\n",
    "p = ceil.(Int, rand(0.8:0.01:1.2, n) .* v)\n",
    "C = round(Int, sum(p) * 0.5)"
   ]
  },
  {
   "cell_type": "code",
   "execution_count": 77,
   "metadata": {},
   "outputs": [
    {
     "data": {
      "text/plain": [
       "1000×4 Array{Float64,2}:\n",
       "    1.0   78.0   66.0  1.18182\n",
       "    2.0   21.0   20.0  1.05\n",
       "    3.0   53.0   49.0  1.08163\n",
       "    4.0   19.0   17.0  1.11765\n",
       "    5.0   94.0   79.0  1.18987\n",
       "    6.0   63.0   57.0  1.10526\n",
       "    7.0   86.0   82.0  1.04878\n",
       "    8.0   94.0   87.0  1.08046\n",
       "    9.0   45.0   53.0  0.849057\n",
       "   10.0   42.0   50.0  0.84\n",
       "   11.0   45.0   48.0  0.9375\n",
       "   12.0   83.0   96.0  0.864583\n",
       "   13.0   47.0   40.0  1.175\n",
       "    ⋮                  \n",
       "  989.0   37.0   31.0  1.19355\n",
       "  990.0   43.0   47.0  0.914894\n",
       "  991.0   33.0   35.0  0.942857\n",
       "  992.0   22.0   19.0  1.15789\n",
       "  993.0  100.0  106.0  0.943396\n",
       "  994.0   30.0   27.0  1.11111\n",
       "  995.0   81.0   76.0  1.06579\n",
       "  996.0   57.0   46.0  1.23913\n",
       "  997.0   17.0   15.0  1.13333\n",
       "  998.0   44.0   50.0  0.88\n",
       "  999.0   96.0  106.0  0.90566\n",
       " 1000.0   87.0   72.0  1.20833"
      ]
     },
     "execution_count": 77,
     "metadata": {},
     "output_type": "execute_result"
    }
   ],
   "source": [
    "[1:n  v   p  v ./ p]"
   ]
  },
  {
   "cell_type": "code",
   "execution_count": 30,
   "metadata": {},
   "outputs": [
    {
     "data": {
      "text/plain": [
       "brute (generic function with 1 method)"
      ]
     },
     "execution_count": 30,
     "metadata": {},
     "output_type": "execute_result"
    }
   ],
   "source": [
    "using Combinatorics\n",
    "\n",
    "function brute(v, p, C)\n",
    "    n = length(v)\n",
    "    bestJ = []\n",
    "    bestv = 0\n",
    "    for k = 1:n\n",
    "        for J in combinations(1:n, k)\n",
    "            if sum(p[J]) ≤ C\n",
    "                sumv = sum(v[J])\n",
    "                if sumv > bestv\n",
    "                    bestv = sumv\n",
    "                    bestJ = copy(J)\n",
    "                end\n",
    "            end\n",
    "        end\n",
    "    end\n",
    "    return bestJ, bestv, sum(p[bestJ])\n",
    "end"
   ]
  },
  {
   "cell_type": "code",
   "execution_count": 31,
   "metadata": {},
   "outputs": [
    {
     "data": {
      "text/plain": [
       "([1, 3, 5, 6, 7, 8, 11, 12, 13, 17, 18, 20], 328, 169)"
      ]
     },
     "execution_count": 31,
     "metadata": {},
     "output_type": "execute_result"
    }
   ],
   "source": [
    "brute(v, p, C)"
   ]
  },
  {
   "cell_type": "code",
   "execution_count": 46,
   "metadata": {},
   "outputs": [
    {
     "data": {
      "text/plain": [
       "greedy (generic function with 1 method)"
      ]
     },
     "execution_count": 46,
     "metadata": {},
     "output_type": "execute_result"
    }
   ],
   "source": [
    "function greedy(v, p, C)\n",
    "    n = length(v)\n",
    "    r = v ./ p\n",
    "    J = sortperm(r, rev=true)\n",
    "    S = Int[]\n",
    "    sump = 0\n",
    "    sumv = 0\n",
    "    for i = 1:n\n",
    "        if sump + p[J[i]] ≤ C # Se cabe na mochila\n",
    "            sump += p[J[i]]\n",
    "            sumv += v[J[i]]\n",
    "            push!(S, J[i])\n",
    "        end\n",
    "        if sump == C\n",
    "            break\n",
    "        end\n",
    "    end\n",
    "    return sort(S), sumv, sump\n",
    "end"
   ]
  },
  {
   "cell_type": "code",
   "execution_count": 47,
   "metadata": {},
   "outputs": [
    {
     "data": {
      "text/plain": [
       "([1, 3, 5, 7, 8, 10, 11, 12, 13, 14, 17, 18, 20], 327, 171)"
      ]
     },
     "execution_count": 47,
     "metadata": {},
     "output_type": "execute_result"
    }
   ],
   "source": [
    "greedy(v, p, C)"
   ]
  },
  {
   "cell_type": "code",
   "execution_count": 48,
   "metadata": {},
   "outputs": [
    {
     "data": {
      "text/plain": [
       "([1, 3, 5, 6, 7, 8, 11, 12, 13, 17, 18, 20], 328, 169)"
      ]
     },
     "execution_count": 48,
     "metadata": {},
     "output_type": "execute_result"
    }
   ],
   "source": [
    "brute(v, p, C)"
   ]
  },
  {
   "cell_type": "code",
   "execution_count": 69,
   "metadata": {},
   "outputs": [
    {
     "data": {
      "text/plain": [
       "modelo (generic function with 1 method)"
      ]
     },
     "execution_count": 69,
     "metadata": {},
     "output_type": "execute_result"
    }
   ],
   "source": [
    "using JuMP, Cbc\n",
    "\n",
    "function modelo(v, p, C)\n",
    "    n = length(v)\n",
    "    itens = 1:n\n",
    "    \n",
    "    model = Model(Cbc.Optimizer)\n",
    "    @variable(model, x[i ∈ itens], Bin)\n",
    "    @objective(model, Max, sum(x[i] * v[i] for i ∈ itens))\n",
    "    @constraint(model, sum(x[i] * p[i] for i ∈ itens) ≤ C)\n",
    "    \n",
    "    optimize!(model)\n",
    "    \n",
    "    x = [value(x[i]) for i ∈ itens]\n",
    "    x = round.(Int, x)\n",
    "    return findall(x .== 1), objective_value(model), sum(x .* p)\n",
    "end"
   ]
  },
  {
   "cell_type": "code",
   "execution_count": 78,
   "metadata": {
    "scrolled": true
   },
   "outputs": [
    {
     "name": "stdout",
     "output_type": "stream",
     "text": [
      "Welcome to the CBC MILP Solver \n",
      "Version: 2.10.3 \n",
      "Build Date: Jan  1 1970 \n",
      "\n",
      "command line - Cbc_C_Interface -solve -quit (default strategy 1)\n",
      "Continuous objective value is 30487.6 - 0.00 seconds\n",
      "Cgl0004I processed model has 1 rows, 840 columns (840 integer (720 of which binary)) and 840 elements\n",
      "Cbc0012I Integer solution of -30413 found by DiveCoefficient after 0 iterations and 0 nodes (0.01 seconds)\n",
      "Cbc0012I Integer solution of -30442 found by DiveCoefficient after 39 iterations and 0 nodes (0.05 seconds)\n",
      "Cbc0031I 3 added rows had average density of 840\n",
      "Cbc0013I At root node, 3 cuts changed objective from -30487.619 to -30487.547 in 10 passes\n",
      "Cbc0014I Cut generator 0 (Probing) - 0 row cuts average 0.0 elements, 0 column cuts (0 active)  in 0.004 seconds - new frequency is -100\n",
      "Cbc0014I Cut generator 1 (Gomory) - 23 row cuts average 830.1 elements, 0 column cuts (0 active)  in 0.005 seconds - new frequency is -100\n",
      "Cbc0014I Cut generator 2 (Knapsack) - 0 row cuts average 0.0 elements, 0 column cuts (0 active)  in 0.001 seconds - new frequency is -100\n",
      "Cbc0014I Cut generator 3 (Clique) - 0 row cuts average 0.0 elements, 0 column cuts (0 active)  in 0.000 seconds - new frequency is -100\n",
      "Cbc0014I Cut generator 4 (MixedIntegerRounding2) - 0 row cuts average 0.0 elements, 0 column cuts (0 active)  in 0.003 seconds - new frequency is -100\n",
      "Cbc0014I Cut generator 5 (FlowCover) - 9 row cuts average 461.3 elements, 0 column cuts (0 active)  in 0.007 seconds - new frequency is 1\n",
      "Cbc0014I Cut generator 7 (ZeroHalf) - 1 row cuts average 840.0 elements, 0 column cuts (0 active)  in 0.000 seconds - new frequency is -100\n",
      "Cbc0010I After 0 nodes, 1 on tree, -30442 best solution, best possible -30487.547 (0.05 seconds)\n",
      "Cbc0012I Integer solution of -30473 found by DiveCoefficient after 40 iterations and 1 nodes (0.06 seconds)\n",
      "Cbc0012I Integer solution of -30487 found by DiveCoefficient after 41 iterations and 2 nodes (0.06 seconds)\n",
      "Cbc0001I Search completed - best objective -30487, took 41 iterations and 2 nodes (0.06 seconds)\n",
      "Cbc0032I Strong branching done 14 times (30 iterations), fathomed 0 nodes and fixed 0 variables\n",
      "Cbc0035I Maximum depth 1, 724 variables fixed on reduced cost\n",
      "Cuts at root node changed objective from -30487.6 to -30487.5\n",
      "Probing was tried 10 times and created 0 cuts of which 0 were active after adding rounds of cuts (0.004 seconds)\n",
      "Gomory was tried 10 times and created 23 cuts of which 0 were active after adding rounds of cuts (0.005 seconds)\n",
      "Knapsack was tried 10 times and created 0 cuts of which 0 were active after adding rounds of cuts (0.001 seconds)\n",
      "Clique was tried 10 times and created 0 cuts of which 0 were active after adding rounds of cuts (0.000 seconds)\n",
      "MixedIntegerRounding2 was tried 10 times and created 0 cuts of which 0 were active after adding rounds of cuts (0.003 seconds)\n",
      "FlowCover was tried 12 times and created 9 cuts of which 0 were active after adding rounds of cuts (0.009 seconds)\n",
      "TwoMirCuts was tried 1 times and created 0 cuts of which 0 were active after adding rounds of cuts (0.000 seconds)\n",
      "ZeroHalf was tried 1 times and created 1 cuts of which 0 were active after adding rounds of cuts (0.000 seconds)\n",
      "\n",
      "Result - Optimal solution found\n",
      "\n",
      "Objective value:                30487.00000000\n",
      "Enumerated nodes:               2\n",
      "Total iterations:               41\n",
      "Time (CPU seconds):             0.06\n",
      "Time (Wallclock seconds):       0.07\n",
      "\n",
      "Total time (CPU seconds):       0.06   (Wallclock seconds):       0.07\n",
      "\n"
     ]
    },
    {
     "data": {
      "text/plain": [
       "([1, 2, 3, 4, 5, 6, 7, 8, 13, 14  …  985, 987, 988, 989, 992, 994, 995, 996, 997, 1000], 30487.0, 27994)"
      ]
     },
     "execution_count": 78,
     "metadata": {},
     "output_type": "execute_result"
    }
   ],
   "source": [
    "modelo(v, p, C)"
   ]
  },
  {
   "cell_type": "code",
   "execution_count": 79,
   "metadata": {},
   "outputs": [
    {
     "data": {
      "text/plain": [
       "([1, 2, 3, 4, 5, 6, 7, 8, 13, 14  …  985, 987, 988, 989, 992, 994, 995, 996, 997, 1000], 30487, 27994)"
      ]
     },
     "execution_count": 79,
     "metadata": {},
     "output_type": "execute_result"
    }
   ],
   "source": [
    "greedy(v, p, C)"
   ]
  },
  {
   "cell_type": "code",
   "execution_count": null,
   "metadata": {},
   "outputs": [],
   "source": []
  }
 ],
 "metadata": {
  "kernelspec": {
   "display_name": "Julia 1.5.2",
   "language": "julia",
   "name": "julia-1.5"
  },
  "language_info": {
   "file_extension": ".jl",
   "mimetype": "application/julia",
   "name": "julia",
   "version": "1.5.2"
  }
 },
 "nbformat": 4,
 "nbformat_minor": 4
}
