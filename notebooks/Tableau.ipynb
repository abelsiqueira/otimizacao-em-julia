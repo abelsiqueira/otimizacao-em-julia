{
 "cells": [
  {
   "cell_type": "code",
   "execution_count": 1,
   "metadata": {},
   "outputs": [
    {
     "name": "stderr",
     "output_type": "stream",
     "text": [
      "┌ Info: Precompiling Plots [91a5bcdd-55d7-5caf-9e0b-520d859cae80]\n",
      "└ @ Base loading.jl:1278\n"
     ]
    }
   ],
   "source": [
    "using Plots\n",
    "plot(rand(3,3))\n",
    "contour(-2:2, -2:2, (x,y)->x^2 + y^2)\n",
    "nothing"
   ]
  },
  {
   "cell_type": "code",
   "execution_count": 3,
   "metadata": {},
   "outputs": [
    {
     "data": {
      "text/plain": [
       "5-element Array{Float64,1}:\n",
       " -3.0\n",
       " -1.0\n",
       "  0.0\n",
       "  0.0\n",
       "  0.0"
      ]
     },
     "execution_count": 3,
     "metadata": {},
     "output_type": "execute_result"
    }
   ],
   "source": [
    "A = [\n",
    "    1.0 1.0 1.0 0 0;\n",
    "    -1.0 1.0 0 1.0 0;\n",
    "    2.0 -1.0 0 0 1.0\n",
    "]\n",
    "b = [3.0; 2.0; 4.0]\n",
    "c = [-3.0; -1.0; 0; 0; 0]"
   ]
  },
  {
   "cell_type": "code",
   "execution_count": 71,
   "metadata": {},
   "outputs": [
    {
     "data": {
      "text/plain": [
       "3×2 Array{Float64,2}:\n",
       " 1.0  0.0\n",
       " 0.0  0.0\n",
       " 0.0  1.0"
      ]
     },
     "execution_count": 71,
     "metadata": {},
     "output_type": "execute_result"
    }
   ],
   "source": [
    "m, n = size(A)\n",
    "IB = [2, 4, 1]\n",
    "B = A[:,IB]\n",
    "IN = setdiff(1:size(A,2), IB)\n",
    "N = A[:,IN]"
   ]
  },
  {
   "cell_type": "code",
   "execution_count": 72,
   "metadata": {},
   "outputs": [
    {
     "data": {
      "text/plain": [
       "([0.6666666666666665, 3.666666666666667, 2.3333333333333335], [1.6666666666666665, 0.6666666666666666])"
      ]
     },
     "execution_count": 72,
     "metadata": {},
     "output_type": "execute_result"
    }
   ],
   "source": [
    "xB = B \\ b\n",
    "y = B' \\ c[IB]\n",
    "cNbarra = c[IN] - N' * y\n",
    "xB, cNbarra"
   ]
  },
  {
   "cell_type": "code",
   "execution_count": 73,
   "metadata": {},
   "outputs": [
    {
     "data": {
      "text/plain": [
       "4×6 Array{Float64,2}:\n",
       "  0.0          1.11022e-16   1.66667   0.0   0.666667  7.66667\n",
       "  1.11022e-16  1.0           0.666667  0.0  -0.333333  0.666667\n",
       " -2.22045e-16  0.0          -0.333333  1.0   0.666667  3.66667\n",
       "  1.0          0.0           0.333333  0.0   0.333333  2.33333"
      ]
     },
     "execution_count": 73,
     "metadata": {},
     "output_type": "execute_result"
    }
   ],
   "source": [
    "using LinearAlgebra\n",
    "M1 = [1 -c[IB]'; zeros(m) Matrix(I, m, m)]\n",
    "M2 = [1 zeros(m)'; zeros(m) inv(B)]\n",
    "\n",
    "M1 * M2 * [c' 0; A b]"
   ]
  },
  {
   "cell_type": "code",
   "execution_count": 76,
   "metadata": {},
   "outputs": [
    {
     "data": {
      "text/plain": [
       "3.6666666666666665"
      ]
     },
     "execution_count": 76,
     "metadata": {},
     "output_type": "execute_result"
    }
   ],
   "source": [
    "11/3"
   ]
  }
 ],
 "metadata": {
  "kernelspec": {
   "display_name": "Julia 1.5.3",
   "language": "julia",
   "name": "julia-1.5"
  },
  "language_info": {
   "file_extension": ".jl",
   "mimetype": "application/julia",
   "name": "julia",
   "version": "1.5.3"
  }
 },
 "nbformat": 4,
 "nbformat_minor": 4
}
